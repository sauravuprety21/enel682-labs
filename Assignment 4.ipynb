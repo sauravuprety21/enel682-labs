{
 "cells": [
  {
   "cell_type": "markdown",
   "id": "e66e91d0",
   "metadata": {},
   "source": [
    "# Assignment 4: Pipelines and Hyperparameter Tuning (52 total marks)\n",
    "### Due: March 19 at 11:59pm\n",
    "\n",
    "### Name: "
   ]
  },
  {
   "cell_type": "markdown",
   "id": "3a80083d",
   "metadata": {},
   "source": [
    "The purpose of this assignment is to practice following the grid-search workflow: \n",
    "- Split data into training and test set\n",
    "- Use the training portion to find the best model using grid search and cross-validation\n",
    "- Retrain the best model\n",
    "- Evaluate the retrained model on the test set"
   ]
  },
  {
   "cell_type": "code",
   "execution_count": 1,
   "id": "00d7b64f",
   "metadata": {},
   "outputs": [],
   "source": [
    "import numpy as np\n",
    "import pandas as pd"
   ]
  },
  {
   "cell_type": "markdown",
   "id": "c93e1a63",
   "metadata": {},
   "source": [
    "## Part 1: Classification (21 marks)"
   ]
  },
  {
   "cell_type": "markdown",
   "id": "db693465",
   "metadata": {},
   "source": [
    "### 1.1: Load data (2 marks)\n",
    "For this task, we will be using the yellowbrick mushroom dataset. This dataset uses physical characteristics of mushrooms to predict whether or not the mushroom is poisonous.\n",
    "\n",
    "More information on the dataset can be found here:\n",
    "https://www.scikit-yb.org/en/latest/api/datasets/mushroom.html"
   ]
  },
  {
   "cell_type": "markdown",
   "id": "d88f8405",
   "metadata": {},
   "source": [
    "#### Prepare the feature matrix and target vector\n",
    "\n",
    "Using the yellowbrick `load_mushroom()` function, load the mushroom data set into feature matrix `X` and target vector `y`\n",
    "\n",
    "Print the shape of `X` and `y`"
   ]
  },
  {
   "cell_type": "code",
   "execution_count": null,
   "id": "df625297",
   "metadata": {},
   "outputs": [],
   "source": [
    "# TODO: Load the dataset\n",
    "\n",
    "# TODO: Print the shape of X and y\n"
   ]
  },
  {
   "cell_type": "markdown",
   "id": "8af1ddd8",
   "metadata": {},
   "source": [
    "### 1.2: Pre-processing (3 marks)\n",
    "In this dataset, all the features are categorical, so they need to be encoded. We will use `OneHotEncoder(sparse_output=False)` for this case"
   ]
  },
  {
   "cell_type": "code",
   "execution_count": null,
   "id": "da276a8c",
   "metadata": {},
   "outputs": [],
   "source": [
    "# TODO: Create OneHotEncoder object\n"
   ]
  },
  {
   "cell_type": "markdown",
   "id": "9e4f2a89",
   "metadata": {},
   "source": [
    "The next step is to build a pipeline to combine the encoding with the selected machine learning method. To initialize the pipeline, we will use `LogisticRegression(max_iter=1000)` as a placeholder"
   ]
  },
  {
   "cell_type": "code",
   "execution_count": null,
   "id": "edc8d722",
   "metadata": {},
   "outputs": [],
   "source": [
    "# TODO: Build the pipeline\n"
   ]
  },
  {
   "cell_type": "markdown",
   "id": "d9776125",
   "metadata": {},
   "source": [
    "The next step is to split the data into training and testing sets. Use `test_size=0.1, stratify=y, random_state=42`"
   ]
  },
  {
   "cell_type": "code",
   "execution_count": null,
   "id": "6ebe1a57",
   "metadata": {},
   "outputs": [],
   "source": [
    "# TODO: Split data into training and testing sets\n"
   ]
  },
  {
   "cell_type": "markdown",
   "id": "77d3442b",
   "metadata": {},
   "source": [
    "### 1.3: Grid Search (4 marks)\n",
    "\n",
    "For the grid search, we would like to test three different models: `LogisticRegression(max_iter=1000)`, `KNeighborsClassifier()` and `SVC()`. Build your parameter grid based on what you think are reasonable values to test"
   ]
  },
  {
   "cell_type": "code",
   "execution_count": null,
   "id": "535be88f",
   "metadata": {},
   "outputs": [],
   "source": [
    "# TODO: Build a parameter grid\n"
   ]
  },
  {
   "cell_type": "code",
   "execution_count": null,
   "id": "4fced7ea",
   "metadata": {},
   "outputs": [],
   "source": [
    "# TODO: Implement grid search\n"
   ]
  },
  {
   "cell_type": "markdown",
   "id": "fd6e5f6d",
   "metadata": {},
   "source": [
    "### 1.4: Visualize Results (2 marks)\n",
    "\n",
    "The final step is to print out the results from the grid search. You will need to print out the following items:\n",
    "- Best parameters\n",
    "- Best cross-validation train score \n",
    "- Best cross-validation test score\n",
    "- Test set accuracy"
   ]
  },
  {
   "cell_type": "code",
   "execution_count": null,
   "id": "97940048",
   "metadata": {},
   "outputs": [],
   "source": [
    "# TODO: Print the results from the grid search\n"
   ]
  },
  {
   "cell_type": "markdown",
   "id": "337387ca",
   "metadata": {},
   "source": [
    "### Questions (6 marks)\n",
    "\n",
    "1. Which model and what parameters produced the best results?\n",
    "1. Was this model a good fit? Why or why not?\n",
    "1. Is there anything else we could do to try to improve model performance? Provide two ideas."
   ]
  },
  {
   "cell_type": "markdown",
   "id": "b171e59d",
   "metadata": {},
   "source": [
    "*ANSWER HERE*"
   ]
  },
  {
   "cell_type": "markdown",
   "id": "364bac94",
   "metadata": {},
   "source": [
    "### Process Description (4 marks)\n",
    "Please describe the process you used to create your code. Cite any websites or generative AI tools used. You can use the following questions as guidance:\n",
    "1. Where did you source your code?\n",
    "1. In what order did you complete the steps?\n",
    "1. If you used generative AI, what prompts did you use? Did you need to modify the code at all? Why or why not?\n",
    "1. Did you have any challenges? If yes, what were they? If not, what helped you to be successful?"
   ]
  },
  {
   "cell_type": "markdown",
   "id": "be6a96b7",
   "metadata": {},
   "source": [
    "*DESCRIBE YOUR PROCESS HERE - BE SPECIFIC*"
   ]
  },
  {
   "cell_type": "markdown",
   "id": "b6f5b188",
   "metadata": {},
   "source": [
    "# Part 2: Regression (26 marks)"
   ]
  },
  {
   "cell_type": "markdown",
   "id": "a0af7536",
   "metadata": {},
   "source": [
    "For this task, we will be using the auto-mpg dataset. The dataset can be found here: https://archive.ics.uci.edu/ml/datasets/Auto%2BMPG"
   ]
  },
  {
   "cell_type": "markdown",
   "id": "b1ed9025",
   "metadata": {},
   "source": [
    "### 2.1: Load data (3 marks)\n",
    "\n",
    "#### Prepare the feature matrix and target vector\n",
    "\n",
    "Using the code below, load the dataset and separate it into feature matrix `X` and target vector `y`. Which column represents the target vector?\n",
    "\n",
    "Print the shape of `X` and `y`\n",
    "\n",
    "**Note that you will need to download the file from D2L or from the UCI website and store it in the same folder as the code for this to work**"
   ]
  },
  {
   "cell_type": "code",
   "execution_count": null,
   "id": "84fc2a25",
   "metadata": {},
   "outputs": [],
   "source": [
    "# Code to read in the dataset - DO NOT CHANGE\n",
    "data = pd.read_csv('auto-mpg.data', \n",
    "               header=None, \n",
    "              names=[\"mpg\",\n",
    "                    \"cylinders\",\n",
    "                    \"displacement\",\n",
    "                    \"horsepower\",\n",
    "                    \"weight\",\n",
    "                    \"acceleration\",\n",
    "                    \"model_year\",\n",
    "                    \"origin\",\n",
    "                    \"car_name\"],\n",
    "               na_values='?',\n",
    "               sep=r'\\s+')"
   ]
  },
  {
   "cell_type": "code",
   "execution_count": null,
   "id": "1721cf93",
   "metadata": {},
   "outputs": [],
   "source": [
    "# TODO: Separate dataset into feature matrix and target vector\n",
    "\n",
    "# TODO: Print shape of X and y\n"
   ]
  },
  {
   "cell_type": "markdown",
   "id": "9a2f08f2",
   "metadata": {},
   "source": [
    "Do we have any missing values in this case?"
   ]
  },
  {
   "cell_type": "code",
   "execution_count": null,
   "id": "f9879a8d",
   "metadata": {},
   "outputs": [],
   "source": [
    "# TODO: Check if there are any missing values\n"
   ]
  },
  {
   "cell_type": "markdown",
   "id": "a80ae24c",
   "metadata": {},
   "source": [
    "### 2.2: Pre-processing (5 marks)\n",
    "In this dataset, we have a mixture of categorical and numerical data. This means that we will need to use a `ColumnTransformer()`\n",
    "\n",
    "If you try to use a ColumnTransformer on the data with all the existing features, you will get an error. This is because there are too many unique feature values in the `car_name` column to capture all possible values in the training set. For this assignment, we will remove the `car_name` column to avoid this problem"
   ]
  },
  {
   "cell_type": "code",
   "execution_count": null,
   "id": "f0fcb8e0",
   "metadata": {},
   "outputs": [],
   "source": [
    "# TODO: Remove car_name column\n"
   ]
  },
  {
   "cell_type": "markdown",
   "id": "835893ca",
   "metadata": {},
   "source": [
    "For this case, we will use:\n",
    "- `OneHotEncoder(sparse_output=False)` for any categorical columns\n",
    "- `StandardScaler()` for any numerical columns\n",
    "- Minimal information imputation for any missing values"
   ]
  },
  {
   "cell_type": "code",
   "execution_count": null,
   "id": "c18db61e",
   "metadata": {},
   "outputs": [],
   "source": [
    "# TODO: Create ColumnTransformer\n"
   ]
  },
  {
   "cell_type": "markdown",
   "id": "f5be6f5a",
   "metadata": {},
   "source": [
    "The next step is to build a pipeline to combine the ColumnTransformer with the selected machine learning method. To initialize the pipeline, we will use `LinearRegression()` as a placeholder"
   ]
  },
  {
   "cell_type": "code",
   "execution_count": null,
   "id": "57210e6b",
   "metadata": {},
   "outputs": [],
   "source": [
    "# TODO: Build the pipeline\n"
   ]
  },
  {
   "cell_type": "markdown",
   "id": "9a1f7ca9",
   "metadata": {},
   "source": [
    "The next step is to split the data into training and testing sets. Use `test_size=0.1, random_state=0`"
   ]
  },
  {
   "cell_type": "code",
   "execution_count": null,
   "id": "37ee5874",
   "metadata": {},
   "outputs": [],
   "source": [
    "# TODO: Split data into training and testing sets\n"
   ]
  },
  {
   "cell_type": "markdown",
   "id": "f385a6b2",
   "metadata": {},
   "source": [
    "### 2.3: Grid Search (4 marks)\n",
    "\n",
    "For the grid search, we would like to test three different models: `LinearRegression()`, `KNeighborsRegressor()` and `RandomForestRegressor(random_state=0)`. Build your parameter grid based on what you think are reasonable values to test"
   ]
  },
  {
   "cell_type": "code",
   "execution_count": null,
   "id": "99936ac0",
   "metadata": {},
   "outputs": [],
   "source": [
    "# TODO: Build a parameter grid\n"
   ]
  },
  {
   "cell_type": "code",
   "execution_count": null,
   "id": "5a920e2d",
   "metadata": {},
   "outputs": [],
   "source": [
    "# TODO: Implement Grid Search\n"
   ]
  },
  {
   "cell_type": "markdown",
   "id": "d63bc782",
   "metadata": {},
   "source": [
    "### 2.4: Visualize Results (2 marks)\n",
    "\n",
    "The final step is to print out the results from the grid search. You will need to print out the following items:\n",
    "- Best parameters\n",
    "- Best cross-validation train score \n",
    "- Best cross-validation test score\n",
    "- Test set accuracy"
   ]
  },
  {
   "cell_type": "code",
   "execution_count": null,
   "id": "8aea6dde",
   "metadata": {},
   "outputs": [],
   "source": [
    "# TODO: Print the results from the grid search\n"
   ]
  },
  {
   "cell_type": "markdown",
   "id": "734a296a",
   "metadata": {},
   "source": [
    "### Questions (8 marks)\n",
    "\n",
    "1. Which model and what parameters produced the best results?\n",
    "1. Was this model a good fit? Why or why not?\n",
    "1. Is there anything else we could do to try to improve model performance? Provide two ideas (must be different than the two ideas given for the previous part).\n",
    "1. Comparing the two parts, which one took longer to run the grid search? Why do you think it took longer?"
   ]
  },
  {
   "cell_type": "markdown",
   "id": "6817d521",
   "metadata": {},
   "source": [
    "*ANSWER HERE*"
   ]
  },
  {
   "cell_type": "markdown",
   "id": "7e5af3ca",
   "metadata": {},
   "source": [
    "### Process Description (4 marks)\n",
    "Please describe the process you used to create your code. Cite any websites or generative AI tools used. You can use the following questions as guidance:\n",
    "1. Where did you source your code?\n",
    "1. In what order did you complete the steps?\n",
    "1. If you used generative AI, what prompts did you use? Did you need to modify the code at all? Why or why not?\n",
    "1. Did you have any challenges? If yes, what were they? If not, what helped you to be successful?"
   ]
  },
  {
   "cell_type": "markdown",
   "id": "23fb89c8",
   "metadata": {},
   "source": [
    "*DESCRIBE YOUR PROCESS HERE - BE SPECIFIC*"
   ]
  },
  {
   "cell_type": "markdown",
   "id": "d2eb4f2d",
   "metadata": {},
   "source": [
    "## Part 3: Observations/Interpretation (3 marks)\n",
    "\n",
    "Describe any pattern you see in the results. Relate your findings to what we discussed during lectures. Include data to justify your findings.\n",
    "\n",
    "\n",
    "*ADD YOUR FINDINGS HERE*"
   ]
  },
  {
   "cell_type": "markdown",
   "id": "109e6bcd",
   "metadata": {},
   "source": [
    "## Part 4: Reflection (2 marks)\n",
    "Include a sentence or two about:\n",
    "- what you liked or disliked,\n",
    "- found interesting, confusing, challangeing, motivating\n",
    "while working on this assignment.\n",
    "\n",
    "\n",
    "*ADD YOUR THOUGHTS HERE*"
   ]
  },
  {
   "cell_type": "code",
   "execution_count": null,
   "id": "b81ecdc3",
   "metadata": {},
   "outputs": [],
   "source": []
  }
 ],
 "metadata": {
  "kernelspec": {
   "display_name": "Python 3 (ipykernel)",
   "language": "python",
   "name": "python3"
  },
  "language_info": {
   "codemirror_mode": {
    "name": "ipython",
    "version": 3
   },
   "file_extension": ".py",
   "mimetype": "text/x-python",
   "name": "python",
   "nbconvert_exporter": "python",
   "pygments_lexer": "ipython3",
   "version": "3.10.13"
  }
 },
 "nbformat": 4,
 "nbformat_minor": 5
}
